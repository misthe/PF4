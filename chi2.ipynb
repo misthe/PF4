{
  "nbformat": 4,
  "nbformat_minor": 0,
  "metadata": {
    "colab": {
      "name": "chi2",
      "provenance": []
    },
    "kernelspec": {
      "name": "python3",
      "display_name": "Python 3"
    },
    "language_info": {
      "name": "python"
    }
  },
  "cells": [
    {
      "cell_type": "code",
      "execution_count": 9,
      "metadata": {
        "colab": {
          "base_uri": "https://localhost:8080/"
        },
        "id": "vyLpM2aHDYJU",
        "outputId": "38b5e531-c4fe-43aa-8f5d-54fb2e78e6c7"
      },
      "outputs": [
        {
          "output_type": "stream",
          "name": "stdout",
          "text": [
            "Η πιθανότητα % είναι :  0.6901407398219428\n"
          ]
        }
      ],
      "source": [
        "#chi2 A ομάδα Poisson\n",
        "from scipy.stats import chi2\n",
        "x=15.98\n",
        "ν=5\n",
        "p=1-chi2.cdf(x,ν)\n",
        "print(\"Η πιθανότητα % είναι : \",p*100) "
      ]
    },
    {
      "cell_type": "code",
      "source": [
        "#chi2 A ομάδα Normal\n",
        "from scipy.stats import chi2\n",
        "x=41.4\n",
        "ν=5\n",
        "p=1-chi2.cdf(x,ν)\n",
        "print(\"Η πιθανότητα % είναι : \",p*100) "
      ],
      "metadata": {
        "colab": {
          "base_uri": "https://localhost:8080/"
        },
        "id": "R46wKOftD2jn",
        "outputId": "d8acc6d5-ff02-4e4c-c8a3-0573cc0a3ab0"
      },
      "execution_count": 10,
      "outputs": [
        {
          "output_type": "stream",
          "name": "stdout",
          "text": [
            "Η πιθανότητα % είναι :  7.78929960532082e-06\n"
          ]
        }
      ]
    },
    {
      "cell_type": "code",
      "source": [
        "#chi2 B ομάδα Poisson\n",
        "from scipy.stats import chi2\n",
        "x=21.06\n",
        "ν=14\n",
        "p=1-chi2.cdf(x,ν)\n",
        "print(\"Η πιθανότητα % είναι : \",p*100) "
      ],
      "metadata": {
        "colab": {
          "base_uri": "https://localhost:8080/"
        },
        "id": "2Gz12qVJEvwW",
        "outputId": "69677ac0-d7f7-4874-ce52-aa934c27ccf9"
      },
      "execution_count": 11,
      "outputs": [
        {
          "output_type": "stream",
          "name": "stdout",
          "text": [
            "Η πιθανότητα % είναι :  10.010479373931169\n"
          ]
        }
      ]
    },
    {
      "cell_type": "code",
      "source": [
        "#chi2 B ομάδα Normal\n",
        "from scipy.stats import chi2\n",
        "x=19.65\n",
        "ν=14\n",
        "p=1-chi2.cdf(x,ν)\n",
        "print(\"Η πιθανότητα % είναι : \",p*100) "
      ],
      "metadata": {
        "colab": {
          "base_uri": "https://localhost:8080/"
        },
        "id": "5TJHIjgOEwoV",
        "outputId": "da53356f-1803-41b7-dada-ad2247fc5640"
      },
      "execution_count": 12,
      "outputs": [
        {
          "output_type": "stream",
          "name": "stdout",
          "text": [
            "Η πιθανότητα % είναι :  14.156791986485896\n"
          ]
        }
      ]
    },
    {
      "cell_type": "code",
      "source": [
        "#chi2 C ομάδα Poisson\n",
        "from scipy.stats import chi2\n",
        "x=26.09\n",
        "ν=16\n",
        "p=1-chi2.cdf(x,ν)\n",
        "print(\"Η πιθανότητα % είναι : \",p*100) "
      ],
      "metadata": {
        "colab": {
          "base_uri": "https://localhost:8080/"
        },
        "id": "2P6l_IwDExEF",
        "outputId": "e6148b94-3dce-476b-c2bf-c1dd4f8067b9"
      },
      "execution_count": 13,
      "outputs": [
        {
          "output_type": "stream",
          "name": "stdout",
          "text": [
            "Η πιθανότητα % είναι :  5.277496589494657\n"
          ]
        }
      ]
    },
    {
      "cell_type": "code",
      "source": [
        "#chi2 C ομάδα Normal\n",
        "from scipy.stats import chi2\n",
        "x=32.02\n",
        "ν=16\n",
        "p=1-chi2.cdf(x,ν)\n",
        "print(\"Η πιθανότητα % είναι : \",p*100) "
      ],
      "metadata": {
        "colab": {
          "base_uri": "https://localhost:8080/"
        },
        "id": "I_LHYlh-Exen",
        "outputId": "69e77b15-0228-4aaf-f919-192cf736a4c2"
      },
      "execution_count": 14,
      "outputs": [
        {
          "output_type": "stream",
          "name": "stdout",
          "text": [
            "Η πιθανότητα % είναι :  0.9940011875518184\n"
          ]
        }
      ]
    },
    {
      "cell_type": "code",
      "source": [
        ""
      ],
      "metadata": {
        "id": "QZsOcXamGV5O"
      },
      "execution_count": null,
      "outputs": []
    }
  ]
}