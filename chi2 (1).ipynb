{
  "nbformat": 4,
  "nbformat_minor": 0,
  "metadata": {
    "colab": {
      "name": "chi2",
      "provenance": [],
      "collapsed_sections": []
    },
    "kernelspec": {
      "name": "python3",
      "display_name": "Python 3"
    },
    "language_info": {
      "name": "python"
    }
  },
  "cells": [
    {
      "cell_type": "code",
      "execution_count": 9,
      "metadata": {
        "colab": {
          "base_uri": "https://localhost:8080/"
        },
        "id": "vyLpM2aHDYJU",
        "outputId": "f6f98f50-f1d3-4008-be9b-1da534d3524b"
      },
      "outputs": [
        {
          "output_type": "stream",
          "name": "stdout",
          "text": [
            "Η πιθανότητα % είναι :  1.3861719292101893\n"
          ]
        }
      ],
      "source": [
        "#chi2 A ομάδα Poisson\n",
        "from scipy.stats import chi2\n",
        "x=15.98\n",
        "ν=6\n",
        "p=1-chi2.cdf(x,ν)\n",
        "print(\"Η πιθανότητα % είναι : \",p*100) "
      ]
    },
    {
      "cell_type": "code",
      "source": [
        "#chi2 A ομάδα Normal\n",
        "from scipy.stats import chi2\n",
        "x=41.4\n",
        "ν=6\n",
        "p=1-chi2.cdf(x,ν)\n",
        "print(\"Η πιθανότητα % είναι : \",p*100) "
      ],
      "metadata": {
        "colab": {
          "base_uri": "https://localhost:8080/"
        },
        "id": "R46wKOftD2jn",
        "outputId": "22fae335-d74b-4754-d767-97809cd977de"
      },
      "execution_count": 10,
      "outputs": [
        {
          "output_type": "stream",
          "name": "stdout",
          "text": [
            "Η πιθανότητα % είναι :  2.4149881450163946e-05\n"
          ]
        }
      ]
    },
    {
      "cell_type": "code",
      "source": [
        "#chi2 B ομάδα Poisson\n",
        "from scipy.stats import chi2\n",
        "x=21.06\n",
        "ν=15\n",
        "p=1-chi2.cdf(x,ν)\n",
        "print(\"Η πιθανότητα % είναι : \",p*100) "
      ],
      "metadata": {
        "colab": {
          "base_uri": "https://localhost:8080/"
        },
        "id": "2Gz12qVJEvwW",
        "outputId": "d6d9bbce-c6fd-4c87-f1ed-3aaa0a3b6730"
      },
      "execution_count": 11,
      "outputs": [
        {
          "output_type": "stream",
          "name": "stdout",
          "text": [
            "Η πιθανότητα % είναι :  13.492322877532793\n"
          ]
        }
      ]
    },
    {
      "cell_type": "code",
      "source": [
        "\n",
        "#chi2 B ομάδα Normal\n",
        "from scipy.stats import chi2\n",
        "x=19.65\n",
        "ν=15\n",
        "p=1-chi2.cdf(x,ν)\n",
        "print(\"Η πιθανότητα % είναι : \",p*100) "
      ],
      "metadata": {
        "colab": {
          "base_uri": "https://localhost:8080/"
        },
        "id": "5TJHIjgOEwoV",
        "outputId": "93427296-81e6-4acf-e38d-188f3b7d83a7"
      },
      "execution_count": 12,
      "outputs": [
        {
          "output_type": "stream",
          "name": "stdout",
          "text": [
            "Η πιθανότητα % είναι :  18.57741204772698\n"
          ]
        }
      ]
    },
    {
      "cell_type": "code",
      "source": [
        "#chi2 C ομάδα Poisson\n",
        "from scipy.stats import chi2\n",
        "x=26.09\n",
        "ν=17\n",
        "p=1-chi2.cdf(x,ν)\n",
        "print(\"Η πιθανότητα % είναι : \",p*100) "
      ],
      "metadata": {
        "colab": {
          "base_uri": "https://localhost:8080/"
        },
        "id": "2P6l_IwDExEF",
        "outputId": "b52fa3d5-4b0b-4da0-e9a7-ad2d46b50518"
      },
      "execution_count": 13,
      "outputs": [
        {
          "output_type": "stream",
          "name": "stdout",
          "text": [
            "Η πιθανότητα % είναι :  7.283636189293096\n"
          ]
        }
      ]
    },
    {
      "cell_type": "code",
      "source": [
        "#chi2 C ομάδα Normal\n",
        "from scipy.stats import chi2\n",
        "x=32.02\n",
        "ν=17\n",
        "p=1-chi2.cdf(x,ν)\n",
        "print(\"Η πιθανότητα % είναι : \",p*100) "
      ],
      "metadata": {
        "colab": {
          "base_uri": "https://localhost:8080/"
        },
        "id": "I_LHYlh-Exen",
        "outputId": "6837ce88-326d-42c3-e52e-60ca6d5ec90c"
      },
      "execution_count": 14,
      "outputs": [
        {
          "output_type": "stream",
          "name": "stdout",
          "text": [
            "Η πιθανότητα % είναι :  1.4962098136526936\n"
          ]
        }
      ]
    },
    {
      "cell_type": "code",
      "source": [
        ""
      ],
      "metadata": {
        "id": "QZsOcXamGV5O"
      },
      "execution_count": 14,
      "outputs": []
    }
  ]
}