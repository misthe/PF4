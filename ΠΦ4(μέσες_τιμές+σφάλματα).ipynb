{
  "nbformat": 4,
  "nbformat_minor": 0,
  "metadata": {
    "colab": {
      "name": "ΠΦ4(μέσες τιμές+σφάλματα)",
      "provenance": [],
      "collapsed_sections": []
    },
    "kernelspec": {
      "name": "python3",
      "display_name": "Python 3"
    },
    "language_info": {
      "name": "python"
    }
  },
  "cells": [
    {
      "cell_type": "markdown",
      "source": [
        ""
      ],
      "metadata": {
        "id": "JVXYAAULdho5"
      }
    },
    {
      "cell_type": "code",
      "source": [
        "#υπολογισμός μέσης τιμής των τιμών των μετρήσεων της Α ομάδας\n",
        "f=open('A.txt', 'r')\n",
        "sum=0\n",
        "for x in f:\n",
        "  sum = sum + int(x)\n",
        "\n",
        "average = sum / 599\n",
        "print (\"Ο μέσος όρος μ του αριθμού διασπάσεων για την ομάδα Α είναι : \", average)\n",
        "\n",
        "#υπολογισμός σφάλματος μέσης τιμής\n",
        "f=open(\"A.txt\", \"r\")\n",
        "add=0.0\n",
        "for x in f:\n",
        "  a = (float(x)-average)\n",
        "  b = a*a\n",
        "  add = add + b\n",
        "\n",
        "k = add /358202\n",
        "sfalma = pow(k,0.5)\n",
        "print (\"Το σφάλμα δμ του μέσου όρου είναι : \", sfalma)"
      ],
      "metadata": {
        "id": "XB1WL4EDprpZ",
        "colab": {
          "base_uri": "https://localhost:8080/"
        },
        "outputId": "dd00b5af-19cd-4a80-da76-62afc372118b"
      },
      "execution_count": 53,
      "outputs": [
        {
          "output_type": "stream",
          "name": "stdout",
          "text": [
            "Ο μέσος όρος μ του αριθμού διασπάσεων για την ομάδα Α είναι :  2.8547579298831387\n",
            "Το σφάλμα δμ του μέσου όρου είναι :  0.08669676238246062\n"
          ]
        }
      ]
    },
    {
      "cell_type": "code",
      "source": [
        "#υπολογισμός μέσης τιμής των τιμών των μετρήσεων της B ομάδας\n",
        "f=open('B.txt', 'r')\n",
        "sum=0\n",
        "for x in f:\n",
        "  sum = sum + int(x)\n",
        "\n",
        "average = sum / 715\n",
        "print (\"Ο μέσος όρος μ του αριθμού διασπάσεων για την ομάδα B είναι : \", average)\n",
        "\n",
        "#υπολογισμός σφάλματος μέσης τιμής\n",
        "f=open(\"B.txt\", \"r\")\n",
        "add=0.0\n",
        "for x in f:\n",
        "  a = (float(x)-average)\n",
        "  b = a*a\n",
        "  add = add + b\n",
        "\n",
        "k = add /510510\n",
        "sfalma = pow(k,0.5)\n",
        "print (\"Το σφάλμα δμ του μέσου όρου είναι : \", sfalma)\n"
      ],
      "metadata": {
        "colab": {
          "base_uri": "https://localhost:8080/"
        },
        "id": "tqomK5GRG63C",
        "outputId": "0fb5807d-6604-4fe8-9387-bc237a2565fb"
      },
      "execution_count": 56,
      "outputs": [
        {
          "output_type": "stream",
          "name": "stdout",
          "text": [
            "Ο μέσος όρος μ του αριθμού διασπάσεων για την ομάδα B είναι :  11.335664335664335\n",
            "Το σφάλμα δμ του μέσου όρου είναι :  0.12687210889674205\n"
          ]
        }
      ]
    },
    {
      "cell_type": "code",
      "source": [
        "#υπολογισμός μέσης τιμής των τιμών των μετρήσεων της C ομάδας\n",
        "f=open('C.txt', 'r')\n",
        "sum=0\n",
        "for x in f:\n",
        "  sum = sum + int(x)\n",
        "\n",
        "average = sum / 768\n",
        "print (\"Ο μέσος όρος μ του αριθμού διασπάσεων για την ομάδα C είναι : \", average)\n",
        "\n",
        "#υπολογισμός σφάλματος μέσης τιμής\n",
        "f=open(\"C.txt\", \"r\")\n",
        "add=0.0\n",
        "for x in f:\n",
        "  a = (float(x)-average)\n",
        "  b = a*a\n",
        "  add = add + b\n",
        "\n",
        "k = add /589056\n",
        "sfalma = pow(k,0.5)\n",
        "print (\"Το σφάλμα δμ του μέσου όρου είναι : \", sfalma)"
      ],
      "metadata": {
        "colab": {
          "base_uri": "https://localhost:8080/"
        },
        "id": "nNIuFxrLKz-b",
        "outputId": "92e38c1c-60d6-448b-e9fd-ebfbe0ec8546"
      },
      "execution_count": 59,
      "outputs": [
        {
          "output_type": "stream",
          "name": "stdout",
          "text": [
            "Ο μέσος όρος μ του αριθμού διασπάσεων για την ομάδα C είναι :  14.208333333333334\n",
            "Το σφάλμα δμ του μέσου όρου είναι :  0.14081714121729427\n"
          ]
        }
      ]
    }
  ]
}